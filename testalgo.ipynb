{
 "cells": [
  {
   "cell_type": "code",
   "execution_count": 1,
   "metadata": {},
   "outputs": [],
   "source": [
    "import random\n",
    "from decimal import Decimal\n",
    "import sympy"
   ]
  },
  {
   "cell_type": "code",
   "execution_count": 2,
   "metadata": {},
   "outputs": [],
   "source": [
    "def encrypt_message( message: str) -> list:\n",
    "        \n",
    "        encrypted_numbers = []\n",
    "        for char in message:\n",
    "            if char.isalpha():\n",
    "                char = char.upper()\n",
    "                number = ord(char) - 64\n",
    "                encrypted_numbers.append(str(number))\n",
    "            if char == \" \":\n",
    "                number = 40\n",
    "                encrypted_numbers.append(str(number))\n",
    "                \n",
    "        return int(\"\".join(encrypted_numbers))"
   ]
  },
  {
   "cell_type": "code",
   "execution_count": 34,
   "metadata": {},
   "outputs": [],
   "source": [
    "integer = encrypt_message(\"Hello World i the new idea for drugs\")"
   ]
  },
  {
   "cell_type": "code",
   "execution_count": 35,
   "metadata": {},
   "outputs": [],
   "source": [
    "def chinese_remainder_theorem( modules, remainders):\n",
    "        # Step 3: Calculate N\n",
    "        N = 1\n",
    "        for mod in modules:\n",
    "            N *= mod\n",
    "\n",
    "        result = 0\n",
    "        for i in range(len(modules)):\n",
    "            mod = modules[i]\n",
    "            remainder = remainders[i]\n",
    "\n",
    "            # Step 4: Calculate n_i\n",
    "            n_i = N // mod\n",
    "\n",
    "            # Step 5: Calculate x_i\n",
    "            x_i = pow(n_i, -1, mod)  # Modular multiplicative inverse\n",
    "\n",
    "            result += remainder * Decimal( n_i ) * Decimal(x_i)\n",
    "\n",
    "        # Step 6: Calculate the final resultS\n",
    "        return result % N"
   ]
  },
  {
   "cell_type": "code",
   "execution_count": 36,
   "metadata": {},
   "outputs": [
    {
     "data": {
      "text/plain": [
       "8512121540231518124409402085401452340945140615184041821719"
      ]
     },
     "execution_count": 36,
     "metadata": {},
     "output_type": "execute_result"
    }
   ],
   "source": [
    "integer "
   ]
  },
  {
   "cell_type": "code",
   "execution_count": 43,
   "metadata": {},
   "outputs": [],
   "source": [
    "keys_per_layer = 3\n",
    "def generate_keys_for_layers(layer, keys_per_layer)->dict:\n",
    "        layer = layer[0]/10\n",
    "        def generate_prime(min_value, max_value):\n",
    "            # Generate a random number within the specified range\n",
    "            number = random.randint(min_value, max_value)\n",
    "\n",
    "            # Find the next prime number greater than or equal to the generated number\n",
    "            prime = sympy.nextprime(number)\n",
    "\n",
    "            return prime\n",
    "        min = int(layer/1000)\n",
    "        max = int(layer/100)\n",
    "        print(min)\n",
    "        print(max)\n",
    "        keys = [generate_prime(min,max) for i in range(keys_per_layer)]\n",
    "        # print(keys)\n",
    "   \n",
    "            \n",
    "        return keys\n",
    "        \n",
    "def encrypt_number( number:int, keys: list)->list:\n",
    "       \n",
    "        \n",
    "            \n",
    "        return  [number % mod for mod in keys]"
   ]
  },
  {
   "cell_type": "code",
   "execution_count": 38,
   "metadata": {},
   "outputs": [
    {
     "name": "stdout",
     "output_type": "stream",
     "text": [
      "851212154023151773647914337686566791534733230512013312\n",
      "8512121540231517396196776455927204451972724873351921664\n"
     ]
    }
   ],
   "source": [
    "keys = generate_keys_for_layers([integer])"
   ]
  },
  {
   "cell_type": "code",
   "execution_count": null,
   "metadata": {},
   "outputs": [],
   "source": []
  },
  {
   "cell_type": "code",
   "execution_count": 45,
   "metadata": {},
   "outputs": [
    {
     "name": "stdout",
     "output_type": "stream",
     "text": [
      "Result: 8512121540231518124409402085401452340945140615184041821719\n"
     ]
    }
   ],
   "source": [
    "from decimal import Decimal\n",
    "\n",
    "def chinese_remainder_theorem(modules, remainders):\n",
    "    # Step 1: Calculate N\n",
    "    N = 1\n",
    "    for module in modules:\n",
    "        N *= module\n",
    "\n",
    "    result = 0\n",
    "    # Step 2-5: Calculate x_i and the result\n",
    "    for module, remainder in zip(modules, remainders):\n",
    "        n_i = N // module\n",
    "        x_i = pow(n_i, -1, module)\n",
    "        result += remainder * n_i * x_i\n",
    "\n",
    "    # Step 6: Calculate the final result\n",
    "    return result % N\n",
    "\n",
    "value = integer\n",
    "\n",
    "# Generate moduli\n",
    "moduli = keys\n",
    "\n",
    "# Generate remainders\n",
    "remainders = encrypt_number(value,moduli)\n",
    "result = chinese_remainder_theorem(moduli, remainders)\n",
    "print(\"Result:\", result)\n"
   ]
  },
  {
   "cell_type": "code",
   "execution_count": 42,
   "metadata": {},
   "outputs": [
    {
     "data": {
      "text/plain": [
       "True"
      ]
     },
     "execution_count": 42,
     "metadata": {},
     "output_type": "execute_result"
    }
   ],
   "source": [
    "8512121540231518124409402085401452340945140615184041821719 == integer"
   ]
  },
  {
   "cell_type": "code",
   "execution_count": 41,
   "metadata": {},
   "outputs": [
    {
     "data": {
      "text/plain": [
       "[347780397116800728617192107688442952084343154531032570,\n",
       " 1087889948338243843129260186874664326743271216665021298,\n",
       " 2279471275040506237184981911835741111781068517355659306]"
      ]
     },
     "execution_count": 41,
     "metadata": {},
     "output_type": "execute_result"
    }
   ],
   "source": [
    "remainders "
   ]
  },
  {
   "cell_type": "code",
   "execution_count": 47,
   "metadata": {},
   "outputs": [
    {
     "data": {
      "text/plain": [
       "309289039250"
      ]
     },
     "execution_count": 47,
     "metadata": {},
     "output_type": "execute_result"
    }
   ],
   "source": [
    "chinese_remainder_theorem([71281073, 235374169, 140479903], [   463503,   7381184 , 92772747])"
   ]
  },
  {
   "cell_type": "code",
   "execution_count": 152,
   "metadata": {},
   "outputs": [
    {
     "data": {
      "text/plain": [
       "[67453, 75079, 56299]"
      ]
     },
     "execution_count": 152,
     "metadata": {},
     "output_type": "execute_result"
    }
   ],
   "source": [
    "new_layer = generate_keys_for_layers(layers)\n",
    "new_layer"
   ]
  }
 ],
 "metadata": {
  "kernelspec": {
   "display_name": "Python 3",
   "language": "python",
   "name": "python3"
  },
  "language_info": {
   "codemirror_mode": {
    "name": "ipython",
    "version": 3
   },
   "file_extension": ".py",
   "mimetype": "text/x-python",
   "name": "python",
   "nbconvert_exporter": "python",
   "pygments_lexer": "ipython3",
   "version": "3.9.8"
  },
  "orig_nbformat": 4
 },
 "nbformat": 4,
 "nbformat_minor": 2
}
