{
 "cells": [
  {
   "cell_type": "code",
   "execution_count": 5,
   "metadata": {},
   "outputs": [
    {
     "name": "stdout",
     "output_type": "stream",
     "text": [
      "blue\n",
      "red\n",
      "red\n",
      "Kot sjebawssa\n"
     ]
    }
   ],
   "source": [
    "class Cat: \n",
    "    def __init__(self) -> None:\n",
    "        self.color = \"red\"\n",
    "        self.poroda = \"sobaka\"\n",
    "        color = \"blue\"\n",
    "        print(color)\n",
    "        print(self.color)\n",
    "        \n",
    "    def move(self):\n",
    "        print(self.color)\n",
    "        print(\"Kot sjebawssa\")\n",
    "        \n",
    "obj = Cat()\n",
    "obj.move()"
   ]
  },
  {
   "cell_type": "code",
   "execution_count": 43,
   "metadata": {},
   "outputs": [
    {
     "name": "stdout",
     "output_type": "stream",
     "text": [
      "150\n",
      "75\n",
      "200\n"
     ]
    }
   ],
   "source": [
    "import random\n",
    "class Hero():\n",
    "    \n",
    "    def __init__(self) -> None:\n",
    "        \n",
    "        self.hp = 100\n",
    "        self.weapon_damage = 50\n",
    "    \n",
    "    def Attack(self, monster):\n",
    "        \n",
    "        monster.TakeDamage(self.weapon_damage)\n",
    "        \n",
    "        return monster\n",
    "    \n",
    "class Monster():\n",
    "    \n",
    "    def __init__(self) -> None:\n",
    "        self.hp = 200\n",
    "        self.damage = 30\n",
    "        \n",
    "        \n",
    "    def TakeDamage(self, damage):\n",
    "        # if(random.randint(0,100) >= 50):\n",
    "        #     print(\"Damage blocked\")\n",
    "        # else:\n",
    "            self.hp = self.hp - damage\n",
    "        \n",
    "    def getHP(self):\n",
    "        \n",
    "        return self.hp\n",
    "\n",
    "Monster1 = Monster()\n",
    "Monster1.TakeDamage(50)\n",
    "print(Monster1.getHP())\n",
    "Monster1.TakeDamage(75)\n",
    "print(Monster1.getHP())\n",
    "Monster2 = Monster()\n",
    "print(Monster2.getHP())"
   ]
  },
  {
   "cell_type": "code",
   "execution_count": null,
   "metadata": {},
   "outputs": [],
   "source": [
    "10% -> 20% "
   ]
  },
  {
   "cell_type": "code",
   "execution_count": null,
   "metadata": {},
   "outputs": [],
   "source": []
  },
  {
   "cell_type": "code",
   "execution_count": null,
   "metadata": {},
   "outputs": [],
   "source": [
    "def Upload():\n",
    "    pass\n",
    "def Download():\n",
    "    pass\n",
    "def Convert():\n",
    "    pass\n",
    "def Save():\n",
    "    pass\n",
    "\n",
    "def convert_mpr_to():\n",
    "    Convert()"
   ]
  },
  {
   "cell_type": "code",
   "execution_count": null,
   "metadata": {},
   "outputs": [],
   "source": [
    "def Katka(hero ):\n",
    "    here.ulta()\n",
    "    \n",
    "Katka(Pudge())"
   ]
  },
  {
   "cell_type": "code",
   "execution_count": 33,
   "metadata": {},
   "outputs": [
    {
     "name": "stdout",
     "output_type": "stream",
     "text": [
      "Knight attacked: \n",
      "Nasrav w dospech\n",
      "I am knight\n"
     ]
    }
   ],
   "source": [
    "class Knight():\n",
    "    def whoami(self):\n",
    "        print(\"I am knight\")\n",
    "    def attack(self):\n",
    "        print(\"Knight attacked: \")\n",
    "        pass\n",
    "    \n",
    "class Paladin(Knight):\n",
    "    \n",
    "    def attack(self):\n",
    "        super().attack()\n",
    "        print(\"Holy attack\")\n",
    "        \n",
    "class DarkKnight(Knight):\n",
    "    \n",
    "    def attack(self):\n",
    "        super().attack()\n",
    "        print(\"Nasrav w dospech\")\n",
    "        \n",
    "        \n",
    "def knight_overview(knight: Knight):\n",
    "    knight.attack()\n",
    "    knight.whoami() \n",
    "    \n",
    "\n",
    "knight_overview(DarkKnight())"
   ]
  },
  {
   "cell_type": "code",
   "execution_count": 39,
   "metadata": {},
   "outputs": [
    {
     "name": "stdout",
     "output_type": "stream",
     "text": [
      "Function called\n"
     ]
    },
    {
     "data": {
      "text/plain": [
       "'Kingdom'"
      ]
     },
     "execution_count": 39,
     "metadata": {},
     "output_type": "execute_result"
    }
   ],
   "source": [
    "from typing import Any\n",
    "\n",
    "\n",
    "class Arena():\n",
    "    \n",
    "    def __init__(self, location) -> None:\n",
    "        self.location = location\n",
    "    \n",
    "    def __call__(self, *args: Any, **kwds: Any) -> Any:\n",
    "        \n",
    "        print(\"Function called\")\n",
    "    \n",
    "    def __str__(self) -> str:\n",
    "        \n",
    "        return self.location    \n",
    "    \n",
    "obj = Arena(\"Kingdom\")\n",
    "obj()\n",
    "\n",
    "str(obj)"
   ]
  },
  {
   "cell_type": "code",
   "execution_count": 23,
   "metadata": {},
   "outputs": [
    {
     "name": "stdout",
     "output_type": "stream",
     "text": [
      "New round\n",
      "HP monstra:  200\n",
      "Damage blocked\n",
      "HP monstra:  200\n",
      "New round\n",
      "HP monstra:  200\n",
      "Damage blocked\n",
      "HP monstra:  200\n",
      "New round\n",
      "HP monstra:  200\n",
      "Damage blocked\n",
      "HP monstra:  200\n",
      "New round\n",
      "HP monstra:  200\n",
      "Damage blocked\n",
      "HP monstra:  200\n",
      "New round\n",
      "HP monstra:  200\n",
      "Damage blocked\n",
      "HP monstra:  200\n",
      "New round\n",
      "HP monstra:  200\n",
      "HP monstra:  150\n",
      "New round\n",
      "HP monstra:  150\n",
      "Damage blocked\n",
      "HP monstra:  150\n",
      "New round\n",
      "HP monstra:  150\n",
      "Damage blocked\n",
      "HP monstra:  150\n",
      "New round\n",
      "HP monstra:  150\n",
      "HP monstra:  100\n",
      "New round\n",
      "HP monstra:  100\n",
      "HP monstra:  50\n",
      "New round\n",
      "HP monstra:  50\n",
      "HP monstra:  0\n",
      "Wowk zdoch\n"
     ]
    }
   ],
   "source": [
    "def Arena(hero, monster):\n",
    "    \n",
    "    print(\"New round\")\n",
    "    print(\"HP monstra: \",monster.getHP())\n",
    "    \n",
    "    hero.Attack(monster)\n",
    "    \n",
    "    print(\"HP monstra: \",monster.getHP())\n",
    "   \n",
    "    if monster.getHP() <= 0:\n",
    "        \n",
    "        print(\"Wowk zdoch\")\n",
    "        return 0 \n",
    "    else: \n",
    "        Arena(hero,monster)\n",
    "        \n",
    "Arena(Hero(),Monster())"
   ]
  }
 ],
 "metadata": {
  "kernelspec": {
   "display_name": "Python 3",
   "language": "python",
   "name": "python3"
  },
  "language_info": {
   "codemirror_mode": {
    "name": "ipython",
    "version": 3
   },
   "file_extension": ".py",
   "mimetype": "text/x-python",
   "name": "python",
   "nbconvert_exporter": "python",
   "pygments_lexer": "ipython3",
   "version": "3.9.8"
  },
  "orig_nbformat": 4
 },
 "nbformat": 4,
 "nbformat_minor": 2
}
